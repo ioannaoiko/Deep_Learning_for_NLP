{
  "nbformat": 4,
  "nbformat_minor": 0,
  "metadata": {
    "colab": {
      "provenance": [],
      "authorship_tag": "ABX9TyO0FTuaGCje0T6ViofCu4mh",
      "include_colab_link": true
    },
    "kernelspec": {
      "name": "python3",
      "display_name": "Python 3"
    },
    "language_info": {
      "name": "python"
    }
  },
  "cells": [
    {
      "cell_type": "markdown",
      "metadata": {
        "id": "view-in-github",
        "colab_type": "text"
      },
      "source": [
        "<a href=\"https://colab.research.google.com/github/ioannaoiko/Deep_Learning_for_NLP/blob/main/RNN.ipynb\" target=\"_parent\"><img src=\"https://colab.research.google.com/assets/colab-badge.svg\" alt=\"Open In Colab\"/></a>"
      ]
    },
    {
      "cell_type": "code",
      "source": [
        "!wget http://nlp.stanford.edu/data/glove.6B.zip"
      ],
      "metadata": {
        "colab": {
          "base_uri": "https://localhost:8080/"
        },
        "id": "vuUccYeTnvYM",
        "outputId": "b233b04d-fc98-4840-cb29-2539eb51f898"
      },
      "execution_count": null,
      "outputs": [
        {
          "output_type": "stream",
          "name": "stdout",
          "text": [
            "--2023-01-19 11:25:23--  http://nlp.stanford.edu/data/glove.6B.zip\n",
            "Resolving nlp.stanford.edu (nlp.stanford.edu)... 171.64.67.140\n",
            "Connecting to nlp.stanford.edu (nlp.stanford.edu)|171.64.67.140|:80... connected.\n",
            "HTTP request sent, awaiting response... 302 Found\n",
            "Location: https://nlp.stanford.edu/data/glove.6B.zip [following]\n",
            "--2023-01-19 11:25:23--  https://nlp.stanford.edu/data/glove.6B.zip\n",
            "Connecting to nlp.stanford.edu (nlp.stanford.edu)|171.64.67.140|:443... connected.\n",
            "HTTP request sent, awaiting response... 301 Moved Permanently\n",
            "Location: https://downloads.cs.stanford.edu/nlp/data/glove.6B.zip [following]\n",
            "--2023-01-19 11:25:23--  https://downloads.cs.stanford.edu/nlp/data/glove.6B.zip\n",
            "Resolving downloads.cs.stanford.edu (downloads.cs.stanford.edu)... 171.64.64.22\n",
            "Connecting to downloads.cs.stanford.edu (downloads.cs.stanford.edu)|171.64.64.22|:443... connected.\n",
            "HTTP request sent, awaiting response... 200 OK\n",
            "Length: 862182613 (822M) [application/zip]\n",
            "Saving to: ‘glove.6B.zip’\n",
            "\n",
            "glove.6B.zip        100%[===================>] 822.24M  5.12MB/s    in 2m 40s  \n",
            "\n",
            "2023-01-19 11:28:03 (5.15 MB/s) - ‘glove.6B.zip’ saved [862182613/862182613]\n",
            "\n"
          ]
        }
      ]
    },
    {
      "cell_type": "code",
      "source": [
        "!unzip glove*.zip"
      ],
      "metadata": {
        "colab": {
          "base_uri": "https://localhost:8080/"
        },
        "id": "Ig5vsl_xnzEz",
        "outputId": "65e235f8-1545-40ab-a711-5301a217fe29"
      },
      "execution_count": null,
      "outputs": [
        {
          "output_type": "stream",
          "name": "stdout",
          "text": [
            "Archive:  glove.6B.zip\n",
            "  inflating: glove.6B.50d.txt        \n",
            "  inflating: glove.6B.100d.txt       \n",
            "  inflating: glove.6B.200d.txt       \n",
            "  inflating: glove.6B.300d.txt       \n"
          ]
        }
      ]
    },
    {
      "cell_type": "code",
      "source": [
        "from gensim.scripts.glove2word2vec import glove2word2vec\n",
        "import pandas as pd\n",
        "\n",
        "glove_input_file = 'glove.6B.300d.txt'\n",
        "w2v_output_file = 'glv_with_w2v_format.txt'\n",
        "\n",
        "glove2word2vec(glove_input_file, w2v_output_file)"
      ],
      "metadata": {
        "colab": {
          "base_uri": "https://localhost:8080/"
        },
        "id": "TUt00Xj_YS40",
        "outputId": "2f6d711d-4434-43ae-9654-c7a62ac72769"
      },
      "execution_count": null,
      "outputs": [
        {
          "output_type": "execute_result",
          "data": {
            "text/plain": [
              "(400000, 300)"
            ]
          },
          "metadata": {},
          "execution_count": 3
        }
      ]
    },
    {
      "cell_type": "code",
      "source": [
        "from gensim.models import KeyedVectors\n",
        "\n",
        "model = KeyedVectors.load_word2vec_format(w2v_output_file, binary=False)"
      ],
      "metadata": {
        "id": "4gL_vCc6ikWr"
      },
      "execution_count": null,
      "outputs": []
    },
    {
      "cell_type": "code",
      "source": [
        "import torch\n",
        "import torch.nn as nn\n",
        "import matplotlib.pyplot as plt\n",
        "import pandas as pd\n",
        "from nltk.tokenize import word_tokenize\n",
        "from string import punctuation\n",
        "from nltk.corpus import stopwords\n",
        "import nltk\n",
        "nltk.download('stopwords')\n",
        "stop_words = set(stopwords.words('english'))\n",
        "nltk.download('punkt')\n",
        "nltk.download('wordnet')\n",
        "nltk.download('omw-1.4')\n",
        "from wordcloud import WordCloud\n",
        "from textblob import Word\n",
        "import numpy as np\n",
        "from sklearn.metrics import accuracy_score, classification_report, f1_score, precision_score, recall_score"
      ],
      "metadata": {
        "colab": {
          "base_uri": "https://localhost:8080/"
        },
        "id": "Dj2sK39Z83-l",
        "outputId": "82ad9bbc-225c-44db-e75b-fab3a42b78e8"
      },
      "execution_count": null,
      "outputs": [
        {
          "output_type": "stream",
          "name": "stderr",
          "text": [
            "[nltk_data] Downloading package stopwords to /root/nltk_data...\n",
            "[nltk_data]   Unzipping corpora/stopwords.zip.\n",
            "[nltk_data] Downloading package punkt to /root/nltk_data...\n",
            "[nltk_data]   Unzipping tokenizers/punkt.zip.\n",
            "[nltk_data] Downloading package wordnet to /root/nltk_data...\n",
            "[nltk_data] Downloading package omw-1.4 to /root/nltk_data...\n"
          ]
        }
      ]
    },
    {
      "cell_type": "code",
      "source": [
        "#Loading the dataset\n",
        "df = pd.read_csv(\"./imdb-reviews.csv\", sep='\\t')\n",
        "df.describe()"
      ],
      "metadata": {
        "colab": {
          "base_uri": "https://localhost:8080/",
          "height": 300
        },
        "id": "eznZdsNj_rWp",
        "outputId": "ac6b77f6-eefa-4b77-b284-aadbdd42cfda"
      },
      "execution_count": null,
      "outputs": [
        {
          "output_type": "execute_result",
          "data": {
            "text/plain": [
              "             rating\n",
              "count  45008.000000\n",
              "mean       5.481914\n",
              "std        3.494293\n",
              "min        1.000000\n",
              "25%        2.000000\n",
              "50%        7.000000\n",
              "75%        9.000000\n",
              "max       10.000000"
            ],
            "text/html": [
              "\n",
              "  <div id=\"df-44d36d88-9681-4baa-ad58-75e77cb6d4d2\">\n",
              "    <div class=\"colab-df-container\">\n",
              "      <div>\n",
              "<style scoped>\n",
              "    .dataframe tbody tr th:only-of-type {\n",
              "        vertical-align: middle;\n",
              "    }\n",
              "\n",
              "    .dataframe tbody tr th {\n",
              "        vertical-align: top;\n",
              "    }\n",
              "\n",
              "    .dataframe thead th {\n",
              "        text-align: right;\n",
              "    }\n",
              "</style>\n",
              "<table border=\"1\" class=\"dataframe\">\n",
              "  <thead>\n",
              "    <tr style=\"text-align: right;\">\n",
              "      <th></th>\n",
              "      <th>rating</th>\n",
              "    </tr>\n",
              "  </thead>\n",
              "  <tbody>\n",
              "    <tr>\n",
              "      <th>count</th>\n",
              "      <td>45008.000000</td>\n",
              "    </tr>\n",
              "    <tr>\n",
              "      <th>mean</th>\n",
              "      <td>5.481914</td>\n",
              "    </tr>\n",
              "    <tr>\n",
              "      <th>std</th>\n",
              "      <td>3.494293</td>\n",
              "    </tr>\n",
              "    <tr>\n",
              "      <th>min</th>\n",
              "      <td>1.000000</td>\n",
              "    </tr>\n",
              "    <tr>\n",
              "      <th>25%</th>\n",
              "      <td>2.000000</td>\n",
              "    </tr>\n",
              "    <tr>\n",
              "      <th>50%</th>\n",
              "      <td>7.000000</td>\n",
              "    </tr>\n",
              "    <tr>\n",
              "      <th>75%</th>\n",
              "      <td>9.000000</td>\n",
              "    </tr>\n",
              "    <tr>\n",
              "      <th>max</th>\n",
              "      <td>10.000000</td>\n",
              "    </tr>\n",
              "  </tbody>\n",
              "</table>\n",
              "</div>\n",
              "      <button class=\"colab-df-convert\" onclick=\"convertToInteractive('df-44d36d88-9681-4baa-ad58-75e77cb6d4d2')\"\n",
              "              title=\"Convert this dataframe to an interactive table.\"\n",
              "              style=\"display:none;\">\n",
              "        \n",
              "  <svg xmlns=\"http://www.w3.org/2000/svg\" height=\"24px\"viewBox=\"0 0 24 24\"\n",
              "       width=\"24px\">\n",
              "    <path d=\"M0 0h24v24H0V0z\" fill=\"none\"/>\n",
              "    <path d=\"M18.56 5.44l.94 2.06.94-2.06 2.06-.94-2.06-.94-.94-2.06-.94 2.06-2.06.94zm-11 1L8.5 8.5l.94-2.06 2.06-.94-2.06-.94L8.5 2.5l-.94 2.06-2.06.94zm10 10l.94 2.06.94-2.06 2.06-.94-2.06-.94-.94-2.06-.94 2.06-2.06.94z\"/><path d=\"M17.41 7.96l-1.37-1.37c-.4-.4-.92-.59-1.43-.59-.52 0-1.04.2-1.43.59L10.3 9.45l-7.72 7.72c-.78.78-.78 2.05 0 2.83L4 21.41c.39.39.9.59 1.41.59.51 0 1.02-.2 1.41-.59l7.78-7.78 2.81-2.81c.8-.78.8-2.07 0-2.86zM5.41 20L4 18.59l7.72-7.72 1.47 1.35L5.41 20z\"/>\n",
              "  </svg>\n",
              "      </button>\n",
              "      \n",
              "  <style>\n",
              "    .colab-df-container {\n",
              "      display:flex;\n",
              "      flex-wrap:wrap;\n",
              "      gap: 12px;\n",
              "    }\n",
              "\n",
              "    .colab-df-convert {\n",
              "      background-color: #E8F0FE;\n",
              "      border: none;\n",
              "      border-radius: 50%;\n",
              "      cursor: pointer;\n",
              "      display: none;\n",
              "      fill: #1967D2;\n",
              "      height: 32px;\n",
              "      padding: 0 0 0 0;\n",
              "      width: 32px;\n",
              "    }\n",
              "\n",
              "    .colab-df-convert:hover {\n",
              "      background-color: #E2EBFA;\n",
              "      box-shadow: 0px 1px 2px rgba(60, 64, 67, 0.3), 0px 1px 3px 1px rgba(60, 64, 67, 0.15);\n",
              "      fill: #174EA6;\n",
              "    }\n",
              "\n",
              "    [theme=dark] .colab-df-convert {\n",
              "      background-color: #3B4455;\n",
              "      fill: #D2E3FC;\n",
              "    }\n",
              "\n",
              "    [theme=dark] .colab-df-convert:hover {\n",
              "      background-color: #434B5C;\n",
              "      box-shadow: 0px 1px 3px 1px rgba(0, 0, 0, 0.15);\n",
              "      filter: drop-shadow(0px 1px 2px rgba(0, 0, 0, 0.3));\n",
              "      fill: #FFFFFF;\n",
              "    }\n",
              "  </style>\n",
              "\n",
              "      <script>\n",
              "        const buttonEl =\n",
              "          document.querySelector('#df-44d36d88-9681-4baa-ad58-75e77cb6d4d2 button.colab-df-convert');\n",
              "        buttonEl.style.display =\n",
              "          google.colab.kernel.accessAllowed ? 'block' : 'none';\n",
              "\n",
              "        async function convertToInteractive(key) {\n",
              "          const element = document.querySelector('#df-44d36d88-9681-4baa-ad58-75e77cb6d4d2');\n",
              "          const dataTable =\n",
              "            await google.colab.kernel.invokeFunction('convertToInteractive',\n",
              "                                                     [key], {});\n",
              "          if (!dataTable) return;\n",
              "\n",
              "          const docLinkHtml = 'Like what you see? Visit the ' +\n",
              "            '<a target=\"_blank\" href=https://colab.research.google.com/notebooks/data_table.ipynb>data table notebook</a>'\n",
              "            + ' to learn more about interactive tables.';\n",
              "          element.innerHTML = '';\n",
              "          dataTable['output_type'] = 'display_data';\n",
              "          await google.colab.output.renderOutput(dataTable, element);\n",
              "          const docLink = document.createElement('div');\n",
              "          docLink.innerHTML = docLinkHtml;\n",
              "          element.appendChild(docLink);\n",
              "        }\n",
              "      </script>\n",
              "    </div>\n",
              "  </div>\n",
              "  "
            ]
          },
          "metadata": {},
          "execution_count": 26
        }
      ]
    },
    {
      "cell_type": "code",
      "source": [
        "#Check for null values\n",
        "#In this case there are no missing values\n",
        "df.isnull().sum()"
      ],
      "metadata": {
        "colab": {
          "base_uri": "https://localhost:8080/"
        },
        "id": "WodP1W3s_1Dj",
        "outputId": "bf5d0bd0-f510-484a-d023-d91b9e198636"
      },
      "execution_count": null,
      "outputs": [
        {
          "output_type": "execute_result",
          "data": {
            "text/plain": [
              "url       0\n",
              "rating    0\n",
              "review    0\n",
              "dtype: int64"
            ]
          },
          "metadata": {},
          "execution_count": 27
        }
      ]
    },
    {
      "cell_type": "code",
      "source": [
        "#data preprocessing function\n",
        "def preprocessing(review):\n",
        "  review = review.lower()\n",
        "  review = review.replace('http\\S+|www.\\S+|https\\S+','') #removing urls\n",
        "  review = review.replace('<br />', '') #removing <br>\n",
        "  review = review.replace('...', '')\n",
        "  review = word_tokenize(review) #tokenization\n",
        "  review = \" \".join(review)\n",
        "\n",
        "  review = ' '.join([word for word in review.split() if word not in punctuation])\n",
        "  review = ' '.join([word for word in review.split() if word not in stop_words])\n",
        "  review = ' '.join([word for word in review.split() if not word.isdigit()])\n",
        "\n",
        "  review = ' '. join([word for word in review.split() if \"'\" not in word])\n",
        "  review = ' '. join([word for word in review.split() if \"`\" not in word])\n",
        "\n",
        "  return \"\".join(Word(word).lemmatize() for word in review)"
      ],
      "metadata": {
        "id": "_V_176nk_-6-"
      },
      "execution_count": null,
      "outputs": []
    },
    {
      "cell_type": "code",
      "source": [
        "#adding boolean sentiment column to the dataset\n",
        "df['sentiment'] = df['rating'] >=7"
      ],
      "metadata": {
        "id": "nNNcHaiaa_4C"
      },
      "execution_count": null,
      "outputs": []
    },
    {
      "cell_type": "code",
      "source": [
        "df['review'] = df['review'].apply(preprocessing)"
      ],
      "metadata": {
        "id": "1msJ5hhcbC00"
      },
      "execution_count": null,
      "outputs": []
    },
    {
      "cell_type": "code",
      "source": [
        "df = df.drop_duplicates('review')"
      ],
      "metadata": {
        "id": "Qm4ZMjrQeDh1"
      },
      "execution_count": null,
      "outputs": []
    },
    {
      "cell_type": "code",
      "source": [
        "#splitting dataset into training and validation data\n",
        "training_data = df.sample(frac=0.8)\n",
        "validation_data = df.drop(training_data.index)"
      ],
      "metadata": {
        "id": "d1joUCAto23A"
      },
      "execution_count": null,
      "outputs": []
    },
    {
      "cell_type": "code",
      "source": [
        "x_train = pd.DataFrame(training_data, columns=[training_data.columns[-2]])\n",
        "y_train = pd.DataFrame(training_data, columns=[training_data.columns[-1]])"
      ],
      "metadata": {
        "id": "2RNV7t5Po4o3"
      },
      "execution_count": null,
      "outputs": []
    },
    {
      "cell_type": "code",
      "source": [
        "x_val = pd.DataFrame(validation_data, columns=[validation_data.columns[-2]])\n",
        "y_val = pd.DataFrame(validation_data, columns=[validation_data.columns[-1]])"
      ],
      "metadata": {
        "id": "KC5UWThry_ac"
      },
      "execution_count": null,
      "outputs": []
    },
    {
      "cell_type": "markdown",
      "source": [
        "**Embeddings**"
      ],
      "metadata": {
        "id": "K89GSXBr9RL4"
      }
    },
    {
      "cell_type": "code",
      "source": [
        "def embeddings(x, y, model):\n",
        "  result = []\n",
        "\n",
        "  for j in range(len(x)):\n",
        "    sum=0\n",
        "    review = x.iloc[j].values[0]\n",
        "    for i,w in enumerate(review.split()):\n",
        "      try:\n",
        "        sum += model[w]\n",
        "      except KeyError:\n",
        "        sum += model[\"0\"]\n",
        "    label = torch.tensor(int(y.iloc[j].values[0] == True)).float()\n",
        "    result.append((sum/i, label))\n",
        "\n",
        "  return result"
      ],
      "metadata": {
        "id": "K3KlTcfjmGCb"
      },
      "execution_count": null,
      "outputs": []
    },
    {
      "cell_type": "code",
      "source": [
        "train = embeddings(x_train, y_train, model)\n",
        "train_loader = torch.utils.data.DataLoader(train, batch_size=64, shuffle=True)\n",
        "\n",
        "validation = embeddings(x_val, y_val, model)\n",
        "valid_loader = torch.utils.data.DataLoader(validation, batch_size=1000, shuffle=True)"
      ],
      "metadata": {
        "id": "UAiXB7G06REn"
      },
      "execution_count": null,
      "outputs": []
    },
    {
      "cell_type": "code",
      "source": [
        "# Imports\n",
        "import torch\n",
        "import torch.nn as nn\n",
        "import torch.nn.functional as F\n",
        "import torch.optim as optim\n",
        "import os\n",
        "import numpy as np\n",
        "\n",
        "import torchvision\n",
        "import torchvision.datasets as dsets\n",
        "import torchvision.transforms as transforms\n",
        "\n",
        "import matplotlib.pyplot as plt\n",
        "%matplotlib inline\n",
        "import sklearn.metrics\n",
        "import seaborn as sns\n",
        "import random\n",
        "import sys\n",
        "\n",
        "\n",
        "\n",
        "def set_seed(seed = 1234):\n",
        "    '''Sets the seed of the entire notebook so results are the same every time we run. This is for REPRODUCIBILITY.\n",
        "    '''\n",
        "    np.random.seed(seed)\n",
        "    random.seed(seed)\n",
        "    torch.manual_seed(seed)\n",
        "    torch.cuda.manual_seed(seed)\n",
        "    # When running on the CuDNN backend, two further options must be set\n",
        "    torch.backends.cudnn.deterministic = True\n",
        "    # Set a fixed value for the hash seed\n",
        "    os.environ['PYTHONHASHSEED'] = str(seed)\n",
        "\n",
        "set_seed()\n",
        "\n",
        "device = 'cpu'\n",
        "print('Working on:', device)"
      ],
      "metadata": {
        "colab": {
          "base_uri": "https://localhost:8080/"
        },
        "id": "RpvLTal5RKp4",
        "outputId": "c3005261-a004-4caf-cacf-b241d81b2ac4"
      },
      "execution_count": null,
      "outputs": [
        {
          "output_type": "stream",
          "name": "stdout",
          "text": [
            "Working on: cpu\n"
          ]
        }
      ]
    },
    {
      "cell_type": "markdown",
      "source": [
        "**RNN**"
      ],
      "metadata": {
        "id": "cnGSqiA2_jxt"
      }
    },
    {
      "cell_type": "code",
      "source": [
        "class RNN(nn.Module):\n",
        "    \"\"\"\n",
        "      Wrapper module for RNN, LSTM, GRU cells using pytorch api. The output is fed to a FFN for classification.\n",
        "    \"\"\"\n",
        "    def __init__(self, cell_type, input_size, hidden_size, num_layers, output_size, dropout, skipconn = True, grad_clip = True):\n",
        "        super(RNN, self).__init__()\n",
        "\n",
        "        cells = {\n",
        "        \"RNN\" : nn.RNN,\n",
        "        \"LSTM\"    : nn.LSTM,\n",
        "        \"GRU\"     : nn.GRU\n",
        "    }\n",
        "        self.cell_type = cell_type\n",
        "        self.skipconn = skipconn\n",
        "        self.grad_clip = grad_clip\n",
        "        if skipconn == False:\n",
        "          self.rnn = cells[cell_type](         # Pick the specific model\n",
        "              input_size=input_size,           # Number of features for each time step\n",
        "              hidden_size=hidden_size,         # rnn hidden units\n",
        "              num_layers=num_layers,\n",
        "              batch_first=True,       # input & output will has batch size as 1s dimension. e.g. (batch, time_step, input_size)\n",
        "              bidirectional=True,\n",
        "              dropout = dropout\n",
        "          )\n",
        "          if(self.rnn.bidirectional == True):\n",
        "            self.out = nn.Linear(hidden_size*2, output_size) # Feed forward network\n",
        "          else:\n",
        "            self.out = nn.Linear(hidden_size, output_size) # Feed forward network\n",
        "        else:\n",
        "          layers = []\n",
        "          for i in range(num_layers):\n",
        "            layers.append(cells[cell_type](\n",
        "                input_size=input_size,\n",
        "                hidden_size=hidden_size,\n",
        "                num_layers=1,\n",
        "                batch_first=True,\n",
        "                bidirectional=True,\n",
        "                dropout = dropout\n",
        "            ))\n",
        "          self.rnn = nn.Sequential(*layers)\n",
        "          # if(self.rnn.bidirectional == True):\n",
        "          self.out = nn.Linear(hidden_size*2, output_size) # Feed forward network\n",
        "\n",
        "          if self.skipconn:\n",
        "            # Number of hidden dimensions\n",
        "            self.hidden_dim = self.rnn[0].hidden_size\n",
        "            # Number of hidden layers\n",
        "            self.num_layers = self.rnn[0].num_layers\n",
        "          else:\n",
        "            self.hidden_dim = self.rnn.hidden_size\n",
        "            self.num_layers = self.rnn.num_layers\n",
        "          # else:\n",
        "          #   self.out = nn.Linear(hidden_size, output_size) # Feed forward network\n",
        "\n",
        "    def forward(self, x):\n",
        "        # x shape (batch, time_step, input_size)\n",
        "        # r_out shape (batch, time_step, output_size)\n",
        "        # h_n shape (n_layers, batch, hidden_size)\n",
        "        # h_c shape (n_layers, batch, hidden_size)\n",
        "\n",
        "        if self.cell_type == 'LSTM':\n",
        "          if self.skipconn:\n",
        "            r_out, (h_n, h_c) = self.rnn[0](x)\n",
        "          else:\n",
        "            r_out, (h_n, h_c) = self.rnn(x)\n",
        "        else:\n",
        "          if self.skipconn:\n",
        "            r_out, h_n = self.rnn[0](x)\n",
        "          else:\n",
        "            r_out, h_n = self.rnn(x)\n",
        "\n",
        "        if self.skipconn:\n",
        "          for i in range(0,self.num_layers-1):\n",
        "            output1 = r_out\n",
        "            out, h_n = self.rnn[i](r_out)\n",
        "            output, h_n = self.rnn[i+1](out)\n",
        "            r_out = output + output1\n",
        "\n",
        "\n",
        "        # choose r_out at the last time step\n",
        "        out = self.out(r_out)\n",
        "        return out"
      ],
      "metadata": {
        "id": "Ixvd4c3xRMYx"
      },
      "execution_count": null,
      "outputs": []
    },
    {
      "cell_type": "code",
      "source": [
        "input_size = 300\n",
        "hidden_size = 64\n",
        "num_layers = 4\n",
        "output_size = 10\n",
        "dropout = 0.8\n",
        "cell_type = 'LSTM'\n",
        "net = RNN(cell_type, input_size, hidden_size, num_layers, output_size, dropout)\n",
        "print(net)"
      ],
      "metadata": {
        "colab": {
          "base_uri": "https://localhost:8080/"
        },
        "id": "VMTmAbhKRTwg",
        "outputId": "81bf852c-50fc-4645-8cb1-c6c1de0f01d5"
      },
      "execution_count": null,
      "outputs": [
        {
          "output_type": "stream",
          "name": "stdout",
          "text": [
            "RNN(\n",
            "  (rnn): Sequential(\n",
            "    (0): LSTM(300, 64, batch_first=True, dropout=0.8, bidirectional=True)\n",
            "    (1): LSTM(300, 64, batch_first=True, dropout=0.8, bidirectional=True)\n",
            "    (2): LSTM(300, 64, batch_first=True, dropout=0.8, bidirectional=True)\n",
            "    (3): LSTM(300, 64, batch_first=True, dropout=0.8, bidirectional=True)\n",
            "  )\n",
            "  (out): Linear(in_features=128, out_features=10, bias=True)\n",
            ")\n"
          ]
        },
        {
          "output_type": "stream",
          "name": "stderr",
          "text": [
            "/usr/local/lib/python3.8/dist-packages/torch/nn/modules/rnn.py:67: UserWarning: dropout option adds dropout after all but last recurrent layer, so non-zero dropout expects num_layers greater than 1, but got dropout=0.8 and num_layers=1\n",
            "  warnings.warn(\"dropout option adds dropout after all but last \"\n"
          ]
        }
      ]
    },
    {
      "cell_type": "code",
      "source": [
        "EPOCH = 3\n",
        "LR = 0.01\n",
        "\n",
        "optimizer = torch.optim.Adam(net.parameters(), lr=LR)   # optimize all net parameters\n",
        "loss_func = nn.CrossEntropyLoss()"
      ],
      "metadata": {
        "id": "8vOWLIczRaJF"
      },
      "execution_count": null,
      "outputs": []
    },
    {
      "cell_type": "code",
      "source": [
        "# Remove the channel dimension\n",
        "for step, (x_val, y_val) in enumerate(valid_loader):\n",
        "    x_val = x_val.view(x_val.size(0), -1)\n",
        "    pass\n",
        "print(x_val.shape, y_val.shape)"
      ],
      "metadata": {
        "colab": {
          "base_uri": "https://localhost:8080/"
        },
        "id": "P8ktke7yoBhl",
        "outputId": "23ed9252-77ac-4a00-a44d-671f2d7dbdab"
      },
      "execution_count": null,
      "outputs": [
        {
          "output_type": "stream",
          "name": "stdout",
          "text": [
            "torch.Size([933, 300]) torch.Size([933])\n"
          ]
        }
      ]
    },
    {
      "cell_type": "markdown",
      "source": [
        "**Training**"
      ],
      "metadata": {
        "id": "zMf8IvFZ_O1Z"
      }
    },
    {
      "cell_type": "code",
      "source": [
        "# Start train mode\n",
        "net.train()\n",
        "\n",
        "# Accumulate losses\n",
        "losses = []\n",
        "train_losses = []\n",
        "valid_losses = []\n",
        "# Count the number of batches given to the model\n",
        "step_count = 0\n",
        "\n",
        "# Evaluate the progress every # batches\n",
        "print_every = 50\n",
        "\n",
        "pred = []\n",
        "train_acc = []\n",
        "val_acc = []\n",
        "i = 0\n",
        "# Iterate over the whole dataset for one epoch\n",
        "for epoch in range(EPOCH):\n",
        "    loss_sum = 0\n",
        "    # Generate batch data\n",
        "    for step, (x, y) in enumerate(train_loader):\n",
        "\n",
        "        # clear gradients for this training step\n",
        "        optimizer.zero_grad()\n",
        "\n",
        "        b_x = x.view(x.size(0), -1)\n",
        "\n",
        "        # batch y\n",
        "        b_y = y\n",
        "        b_y = b_y.type(torch.LongTensor)\n",
        "\n",
        "        output = net(b_x)\n",
        "\n",
        "        loss = loss_func(output, b_y)\n",
        "        losses.append(loss.item())\n",
        "        loss_sum += loss.item()\n",
        "        # For visualization\n",
        "\n",
        "        if net.grad_clip == True:\n",
        "          torch.nn.utils.clip_grad_norm_(net.parameters(), max_norm=3.0, norm_type=2)\n",
        "        step_count += 1\n",
        "\n",
        "\n",
        "        # backpropagation - compute gradients\n",
        "        loss.backward()\n",
        "\n",
        "        # apply gradients\n",
        "        optimizer.step()\n",
        "\n",
        "        # evaluate every N batches\n",
        "        if step % print_every == 0:\n",
        "            i+=1\n",
        "            # Do not calculate gradients\n",
        "            with torch.no_grad():\n",
        "                output = net(b_x)\n",
        "                pred_y = torch.argmax(output, dim=1).squeeze()\n",
        "                accuracy_train = accuracy_score(b_y, pred_y)\n",
        "                train_acc.append(accuracy_train)\n",
        "                # Faster inference\n",
        "                net.eval()\n",
        "\n",
        "                test_output = net(x_val)\n",
        "\n",
        "                # Get predicted class\n",
        "                pred_y = torch.argmax(test_output, dim=1).squeeze()\n",
        "\n",
        "                pred = pred_y\n",
        "                # Calculate accuracy\n",
        "                accuracy_val = accuracy_score(y_val,pred_y)\n",
        "                val_acc.append(accuracy_val)\n",
        "                print('Epoch: ', epoch, '| train loss: %.4f' % loss.item(), '| test accuracy: %.2f' % accuracy_val)\n",
        "\n",
        "            # Return to training mode\n",
        "            net.train()\n",
        "    loss_sum = loss_sum/step\n",
        "    train_losses.append(loss_sum)\n",
        "\n",
        "    loss_sum = 0\n",
        "    with torch.no_grad():\n",
        "      for step, (x, y) in enumerate(valid_loader):\n",
        "        b_x = x.view(x.size(0), -1)\n",
        "\n",
        "        # batch y\n",
        "        b_y = y\n",
        "        b_y = b_y.type(torch.LongTensor)\n",
        "\n",
        "        output = net(b_x)\n",
        "\n",
        "        loss_sum += loss_func(output, b_y)\n",
        "\n",
        "    loss_sum = loss_sum/step\n",
        "    valid_losses.append(loss_sum)\n",
        "\n",
        "\n",
        "\n",
        "# Plot results\n",
        "plt.figure(figsize=(12,5))\n",
        "plt.plot(losses)\n",
        "plt.xlabel('# of steps', fontsize=12)\n",
        "plt.ylabel('CE - Loss', fontsize=12)\n",
        "plt.show()\n",
        "\n",
        "plt.title(\"Learning Curve\")\n",
        "plt.plot([j for j in range(i)], train_acc, label=\"Train\")\n",
        "plt.plot([j for j in range(i)], val_acc, label=\"Validation\")\n",
        "plt.xlabel(\"i\")\n",
        "plt.ylabel(\"Accuracy\")\n",
        "plt.legend(loc='best')\n",
        "plt.show()\n",
        "\n",
        "plt.plot([i for i in range(EPOCH)], train_losses, label = \"Training loss\")\n",
        "plt.plot([i for i in range(EPOCH)], valid_losses, label = \"Validation loss\")\n",
        "plt.legend()\n",
        "plt.xlabel('epochs')\n",
        "plt.ylabel('Loss')\n",
        "plt.title('Loss curve')\n",
        "plt.show()"
      ],
      "metadata": {
        "colab": {
          "base_uri": "https://localhost:8080/",
          "height": 1000
        },
        "id": "qi6c2tYMRdUw",
        "outputId": "75852bf4-eae1-48bf-d28b-3174171a3626"
      },
      "execution_count": null,
      "outputs": [
        {
          "output_type": "stream",
          "name": "stdout",
          "text": [
            "Epoch:  0 | train loss: 2.3426 | test accuracy: 0.50\n",
            "Epoch:  0 | train loss: 0.4969 | test accuracy: 0.75\n",
            "Epoch:  0 | train loss: 0.4938 | test accuracy: 0.81\n",
            "Epoch:  0 | train loss: 0.3214 | test accuracy: 0.83\n",
            "Epoch:  0 | train loss: 0.4117 | test accuracy: 0.83\n",
            "Epoch:  0 | train loss: 0.3494 | test accuracy: 0.83\n",
            "Epoch:  0 | train loss: 0.4438 | test accuracy: 0.84\n",
            "Epoch:  0 | train loss: 0.3832 | test accuracy: 0.83\n",
            "Epoch:  0 | train loss: 0.4510 | test accuracy: 0.82\n",
            "Epoch:  0 | train loss: 0.2557 | test accuracy: 0.85\n",
            "Epoch:  0 | train loss: 0.3291 | test accuracy: 0.82\n",
            "Epoch:  0 | train loss: 0.3730 | test accuracy: 0.84\n",
            "Epoch:  1 | train loss: 0.3817 | test accuracy: 0.84\n",
            "Epoch:  1 | train loss: 0.3227 | test accuracy: 0.83\n",
            "Epoch:  1 | train loss: 0.4956 | test accuracy: 0.84\n",
            "Epoch:  1 | train loss: 0.4000 | test accuracy: 0.84\n",
            "Epoch:  1 | train loss: 0.2794 | test accuracy: 0.85\n",
            "Epoch:  1 | train loss: 0.2393 | test accuracy: 0.84\n",
            "Epoch:  1 | train loss: 0.3209 | test accuracy: 0.83\n",
            "Epoch:  1 | train loss: 0.3036 | test accuracy: 0.85\n",
            "Epoch:  1 | train loss: 0.4615 | test accuracy: 0.84\n",
            "Epoch:  1 | train loss: 0.4212 | test accuracy: 0.85\n",
            "Epoch:  1 | train loss: 0.4196 | test accuracy: 0.84\n",
            "Epoch:  1 | train loss: 0.4286 | test accuracy: 0.84\n",
            "Epoch:  2 | train loss: 0.5011 | test accuracy: 0.84\n",
            "Epoch:  2 | train loss: 0.3644 | test accuracy: 0.84\n",
            "Epoch:  2 | train loss: 0.3150 | test accuracy: 0.83\n",
            "Epoch:  2 | train loss: 0.2797 | test accuracy: 0.85\n",
            "Epoch:  2 | train loss: 0.2219 | test accuracy: 0.85\n",
            "Epoch:  2 | train loss: 0.4724 | test accuracy: 0.84\n",
            "Epoch:  2 | train loss: 0.3346 | test accuracy: 0.84\n",
            "Epoch:  2 | train loss: 0.3659 | test accuracy: 0.83\n",
            "Epoch:  2 | train loss: 0.2946 | test accuracy: 0.85\n",
            "Epoch:  2 | train loss: 0.3088 | test accuracy: 0.85\n",
            "Epoch:  2 | train loss: 0.3805 | test accuracy: 0.85\n",
            "Epoch:  2 | train loss: 0.2702 | test accuracy: 0.85\n"
          ]
        },
        {
          "output_type": "display_data",
          "data": {
            "text/plain": [
              "<Figure size 864x360 with 1 Axes>"
            ],
            "image/png": "[encoded data removed]"
          },
          "metadata": {
            "needs_background": "light"
          }
        },
        {
          "output_type": "display_data",
          "data": {
            "text/plain": [
              "<Figure size 432x288 with 1 Axes>"
            ],
            "image/png": "[encoded data removed]"
          },
          "metadata": {
            "needs_background": "light"
          }
        },
        {
          "output_type": "display_data",
          "data": {
            "text/plain": [
              "<Figure size 432x288 with 1 Axes>"
            ],
            "image/png": "[encoded data removed]"
          },
          "metadata": {
            "needs_background": "light"
          }
        }
      ]
    },
    {
      "cell_type": "code",
      "source": [
        "print(classification_report(y_val, pred))"
      ],
      "metadata": {
        "colab": {
          "base_uri": "https://localhost:8080/"
        },
        "id": "Hgc2NfvIM9zu",
        "outputId": "384385e2-f355-46e7-a4d2-cd7ceac8c460"
      },
      "execution_count": null,
      "outputs": [
        {
          "output_type": "stream",
          "name": "stdout",
          "text": [
            "              precision    recall  f1-score   support\n",
            "\n",
            "         0.0       0.89      0.80      0.84       466\n",
            "         1.0       0.82      0.90      0.86       467\n",
            "\n",
            "    accuracy                           0.85       933\n",
            "   macro avg       0.85      0.85      0.85       933\n",
            "weighted avg       0.85      0.85      0.85       933\n",
            "\n"
          ]
        }
      ]
    },
    {
      "cell_type": "markdown",
      "source": [
        "**ROC Curve**"
      ],
      "metadata": {
        "id": "bvJT1Gat_JXz"
      }
    },
    {
      "cell_type": "code",
      "source": [
        "from sklearn.metrics import roc_curve\n",
        "from sklearn.metrics import auc"
      ],
      "metadata": {
        "id": "ZXPv4wxwPL_U"
      },
      "execution_count": null,
      "outputs": []
    },
    {
      "cell_type": "code",
      "source": [
        "fpr, tpr, threshold = roc_curve(y_val, pred)\n",
        "roc_auc = auc(fpr, tpr)\n",
        "\n",
        "plt.plot(fpr, tpr, label = 'AUC = %0.2f' % roc_auc)\n",
        "plt.legend(loc = 'lower right')\n",
        "plt.plot([0, 1], [0, 1],'r--')\n",
        "plt.xlim([0, 1])\n",
        "plt.ylim([0, 1])\n",
        "plt.ylabel('True Positive Rate')\n",
        "plt.xlabel('False Positive Rate')\n",
        "plt.title('ROC Curve')\n",
        "plt.show()"
      ],
      "metadata": {
        "colab": {
          "base_uri": "https://localhost:8080/",
          "height": 295
        },
        "id": "5LIyqYiMOFAt",
        "outputId": "e25cd941-b2d9-4d0c-e4f7-0b19fc9028e3"
      },
      "execution_count": null,
      "outputs": [
        {
          "output_type": "display_data",
          "data": {
            "text/plain": [
              "<Figure size 432x288 with 1 Axes>"
            ],
            "image/png": "[encoded data removed]"
          },
          "metadata": {
            "needs_background": "light"
          }
        }
      ]
    },
    {
      "cell_type": "markdown",
      "source": [
        "**You can use the next parts for testing**"
      ],
      "metadata": {
        "id": "-4U6aWWatkXi"
      }
    },
    {
      "cell_type": "code",
      "source": [
        "#Loading the testset\n",
        "test_set = pd.read_csv(\"place test set here\", sep='\\t')\n",
        "\n",
        "#adding boolean sentiment column to the dataset\n",
        "test_set['sentiment'] = test_set['rating'] >=7\n",
        "test_set['review'] = test_set['review'].apply(preprocessing)\n",
        "test_set = test_set.drop_duplicates('review')\n"
      ],
      "metadata": {
        "id": "7fbJYw59tGDn"
      },
      "execution_count": null,
      "outputs": []
    },
    {
      "cell_type": "code",
      "source": [
        "x_test = pd.DataFrame(test_set, columns=[test_set.columns[-2]])\n",
        "y_test = pd.DataFrame(test_set, columns=[test_set.columns[-1]])"
      ],
      "metadata": {
        "id": "GB-6ms5u6L6c"
      },
      "execution_count": null,
      "outputs": []
    },
    {
      "cell_type": "code",
      "source": [
        "test = embeddings(x_test, y_test, model)\n",
        "test_loader = torch.utils.data.DataLoader(test, batch_size=1000, shuffle=True)"
      ],
      "metadata": {
        "id": "lOQJ-qju5vIX"
      },
      "execution_count": null,
      "outputs": []
    },
    {
      "cell_type": "code",
      "source": [
        "for step, (x_test, y_test) in enumerate(test_loader):\n",
        "    x_test = x_test.view(x_test.size(0), -1)\n",
        "    pass\n",
        "print(x_test.shape, y_test.shape)"
      ],
      "metadata": {
        "id": "b6j1bX4T8NK-"
      },
      "execution_count": null,
      "outputs": []
    },
    {
      "cell_type": "code",
      "source": [
        "output = net(x_test)\n",
        "pred_y = torch.argmax(output, dim=1).squeeze()\n",
        "print(classification_report(y_test, pred_y))"
      ],
      "metadata": {
        "id": "UItG0pCR8URa"
      },
      "execution_count": null,
      "outputs": []
    }
  ]
}