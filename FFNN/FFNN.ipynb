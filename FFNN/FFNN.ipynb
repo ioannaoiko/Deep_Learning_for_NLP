{
  "nbformat": 4,
  "nbformat_minor": 0,
  "metadata": {
    "colab": {
      "provenance": []
    },
    "kernelspec": {
      "name": "python3",
      "display_name": "Python 3"
    },
    "language_info": {
      "name": "python"
    }
  },
  "cells": [
    {
      "cell_type": "code",
      "source": [
        "!wget http://nlp.stanford.edu/data/glove.6B.zip"
      ],
      "metadata": {
        "colab": {
          "base_uri": "https://localhost:8080/"
        },
        "id": "vuUccYeTnvYM",
        "outputId": "cf3d9d48-b847-423e-86b0-f81db957fef1"
      },
      "execution_count": null,
      "outputs": [
        {
          "output_type": "stream",
          "name": "stdout",
          "text": [
            "--2022-12-31 10:05:54--  http://nlp.stanford.edu/data/glove.6B.zip\n",
            "Resolving nlp.stanford.edu (nlp.stanford.edu)... 171.64.67.140\n",
            "Connecting to nlp.stanford.edu (nlp.stanford.edu)|171.64.67.140|:80... connected.\n",
            "HTTP request sent, awaiting response... 302 Found\n",
            "Location: https://nlp.stanford.edu/data/glove.6B.zip [following]\n",
            "--2022-12-31 10:05:54--  https://nlp.stanford.edu/data/glove.6B.zip\n",
            "Connecting to nlp.stanford.edu (nlp.stanford.edu)|171.64.67.140|:443... connected.\n",
            "HTTP request sent, awaiting response... 301 Moved Permanently\n",
            "Location: https://downloads.cs.stanford.edu/nlp/data/glove.6B.zip [following]\n",
            "--2022-12-31 10:05:54--  https://downloads.cs.stanford.edu/nlp/data/glove.6B.zip\n",
            "Resolving downloads.cs.stanford.edu (downloads.cs.stanford.edu)... 171.64.64.22\n",
            "Connecting to downloads.cs.stanford.edu (downloads.cs.stanford.edu)|171.64.64.22|:443... connected.\n",
            "HTTP request sent, awaiting response... 200 OK\n",
            "Length: 862182613 (822M) [application/zip]\n",
            "Saving to: ‘glove.6B.zip’\n",
            "\n",
            "glove.6B.zip        100%[===================>] 822.24M  5.01MB/s    in 2m 39s  \n",
            "\n",
            "2022-12-31 10:08:33 (5.18 MB/s) - ‘glove.6B.zip’ saved [862182613/862182613]\n",
            "\n"
          ]
        }
      ]
    },
    {
      "cell_type": "code",
      "source": [
        "!unzip glove*.zip"
      ],
      "metadata": {
        "colab": {
          "base_uri": "https://localhost:8080/"
        },
        "id": "Ig5vsl_xnzEz",
        "outputId": "11a70645-51be-4f70-e180-671faf8cb527"
      },
      "execution_count": null,
      "outputs": [
        {
          "output_type": "stream",
          "name": "stdout",
          "text": [
            "Archive:  glove.6B.zip\n",
            "  inflating: glove.6B.50d.txt        \n",
            "  inflating: glove.6B.100d.txt       \n",
            "  inflating: glove.6B.200d.txt       \n",
            "  inflating: glove.6B.300d.txt       \n"
          ]
        }
      ]
    },
    {
      "cell_type": "code",
      "source": [
        "from gensim.scripts.glove2word2vec import glove2word2vec\n",
        "import pandas as pd\n",
        "\n",
        "glove_input_file = 'glove.6B.300d.txt'\n",
        "w2v_output_file = 'glv_with_w2v_format.txt'\n",
        "\n",
        "glove2word2vec(glove_input_file, w2v_output_file)"
      ],
      "metadata": {
        "colab": {
          "base_uri": "https://localhost:8080/"
        },
        "id": "TUt00Xj_YS40",
        "outputId": "17763233-951f-4bf4-f7f8-dff7d70607a4"
      },
      "execution_count": null,
      "outputs": [
        {
          "output_type": "execute_result",
          "data": {
            "text/plain": [
              "(400000, 300)"
            ]
          },
          "metadata": {},
          "execution_count": 3
        }
      ]
    },
    {
      "cell_type": "code",
      "source": [
        "from gensim.models import KeyedVectors\n",
        "\n",
        "model = KeyedVectors.load_word2vec_format(w2v_output_file, binary=False)"
      ],
      "metadata": {
        "id": "4gL_vCc6ikWr"
      },
      "execution_count": null,
      "outputs": []
    },
    {
      "cell_type": "code",
      "source": [
        "pip install torchmetrics"
      ],
      "metadata": {
        "colab": {
          "base_uri": "https://localhost:8080/"
        },
        "id": "gNHGDayE7lsc",
        "outputId": "7154b165-8112-4906-c53d-1c652d7a8261"
      },
      "execution_count": null,
      "outputs": [
        {
          "output_type": "stream",
          "name": "stdout",
          "text": [
            "Looking in indexes: https://pypi.org/simple, https://us-python.pkg.dev/colab-wheels/public/simple/\n",
            "Collecting torchmetrics\n",
            "  Downloading torchmetrics-0.11.0-py3-none-any.whl (512 kB)\n",
            "\u001b[K     |████████████████████████████████| 512 kB 8.1 MB/s \n",
            "\u001b[?25hRequirement already satisfied: typing-extensions in /usr/local/lib/python3.8/dist-packages (from torchmetrics) (4.4.0)\n",
            "Requirement already satisfied: torch>=1.8.1 in /usr/local/lib/python3.8/dist-packages (from torchmetrics) (1.13.0+cu116)\n",
            "Requirement already satisfied: numpy>=1.17.2 in /usr/local/lib/python3.8/dist-packages (from torchmetrics) (1.21.6)\n",
            "Requirement already satisfied: packaging in /usr/local/lib/python3.8/dist-packages (from torchmetrics) (21.3)\n",
            "Requirement already satisfied: pyparsing!=3.0.5,>=2.0.2 in /usr/local/lib/python3.8/dist-packages (from packaging->torchmetrics) (3.0.9)\n",
            "Installing collected packages: torchmetrics\n",
            "Successfully installed torchmetrics-0.11.0\n"
          ]
        }
      ]
    },
    {
      "cell_type": "code",
      "source": [
        "import torch\n",
        "import torch.nn as nn\n",
        "import matplotlib.pyplot as plt\n",
        "import pandas as pd\n",
        "from nltk.tokenize import word_tokenize\n",
        "from string import punctuation\n",
        "from nltk.corpus import stopwords\n",
        "import nltk\n",
        "nltk.download('stopwords')\n",
        "stop_words = set(stopwords.words('english'))\n",
        "nltk.download('punkt')\n",
        "nltk.download('wordnet')\n",
        "nltk.download('omw-1.4')\n",
        "from wordcloud import WordCloud\n",
        "from textblob import Word\n",
        "import numpy as np\n",
        "from sklearn.metrics import accuracy_score, classification_report, f1_score, precision_score, recall_score\n",
        "import torchmetrics\n",
        "from torchmetrics.classification import BinaryROC,BinaryF1Score,BinaryRecall,BinaryPrecision,AUROC"
      ],
      "metadata": {
        "colab": {
          "base_uri": "https://localhost:8080/"
        },
        "id": "Dj2sK39Z83-l",
        "outputId": "a97e1d4b-1ace-42c5-fa53-c6c6e27a2a32"
      },
      "execution_count": null,
      "outputs": [
        {
          "output_type": "stream",
          "name": "stderr",
          "text": [
            "[nltk_data] Downloading package stopwords to /root/nltk_data...\n",
            "[nltk_data]   Unzipping corpora/stopwords.zip.\n",
            "[nltk_data] Downloading package punkt to /root/nltk_data...\n",
            "[nltk_data]   Unzipping tokenizers/punkt.zip.\n",
            "[nltk_data] Downloading package wordnet to /root/nltk_data...\n",
            "[nltk_data] Downloading package omw-1.4 to /root/nltk_data...\n"
          ]
        }
      ]
    },
    {
      "cell_type": "code",
      "source": [
        "#Loading the dataset\n",
        "df = pd.read_csv(\"./imdb-reviews.csv\", sep='\\t')\n",
        "df.describe()"
      ],
      "metadata": {
        "colab": {
          "base_uri": "https://localhost:8080/",
          "height": 300
        },
        "id": "eznZdsNj_rWp",
        "outputId": "99b0c23d-a3bf-4884-aa59-7f4e73721179"
      },
      "execution_count": null,
      "outputs": [
        {
          "output_type": "execute_result",
          "data": {
            "text/plain": [
              "             rating\n",
              "count  45008.000000\n",
              "mean       5.481914\n",
              "std        3.494293\n",
              "min        1.000000\n",
              "25%        2.000000\n",
              "50%        7.000000\n",
              "75%        9.000000\n",
              "max       10.000000"
            ],
            "text/html": [
              "\n",
              "  <div id=\"df-39eb916c-f6d3-4b24-93d7-7a0d0c37e204\">\n",
              "    <div class=\"colab-df-container\">\n",
              "      <div>\n",
              "<style scoped>\n",
              "    .dataframe tbody tr th:only-of-type {\n",
              "        vertical-align: middle;\n",
              "    }\n",
              "\n",
              "    .dataframe tbody tr th {\n",
              "        vertical-align: top;\n",
              "    }\n",
              "\n",
              "    .dataframe thead th {\n",
              "        text-align: right;\n",
              "    }\n",
              "</style>\n",
              "<table border=\"1\" class=\"dataframe\">\n",
              "  <thead>\n",
              "    <tr style=\"text-align: right;\">\n",
              "      <th></th>\n",
              "      <th>rating</th>\n",
              "    </tr>\n",
              "  </thead>\n",
              "  <tbody>\n",
              "    <tr>\n",
              "      <th>count</th>\n",
              "      <td>45008.000000</td>\n",
              "    </tr>\n",
              "    <tr>\n",
              "      <th>mean</th>\n",
              "      <td>5.481914</td>\n",
              "    </tr>\n",
              "    <tr>\n",
              "      <th>std</th>\n",
              "      <td>3.494293</td>\n",
              "    </tr>\n",
              "    <tr>\n",
              "      <th>min</th>\n",
              "      <td>1.000000</td>\n",
              "    </tr>\n",
              "    <tr>\n",
              "      <th>25%</th>\n",
              "      <td>2.000000</td>\n",
              "    </tr>\n",
              "    <tr>\n",
              "      <th>50%</th>\n",
              "      <td>7.000000</td>\n",
              "    </tr>\n",
              "    <tr>\n",
              "      <th>75%</th>\n",
              "      <td>9.000000</td>\n",
              "    </tr>\n",
              "    <tr>\n",
              "      <th>max</th>\n",
              "      <td>10.000000</td>\n",
              "    </tr>\n",
              "  </tbody>\n",
              "</table>\n",
              "</div>\n",
              "      <button class=\"colab-df-convert\" onclick=\"convertToInteractive('df-39eb916c-f6d3-4b24-93d7-7a0d0c37e204')\"\n",
              "              title=\"Convert this dataframe to an interactive table.\"\n",
              "              style=\"display:none;\">\n",
              "        \n",
              "  <svg xmlns=\"http://www.w3.org/2000/svg\" height=\"24px\"viewBox=\"0 0 24 24\"\n",
              "       width=\"24px\">\n",
              "    <path d=\"M0 0h24v24H0V0z\" fill=\"none\"/>\n",
              "    <path d=\"M18.56 5.44l.94 2.06.94-2.06 2.06-.94-2.06-.94-.94-2.06-.94 2.06-2.06.94zm-11 1L8.5 8.5l.94-2.06 2.06-.94-2.06-.94L8.5 2.5l-.94 2.06-2.06.94zm10 10l.94 2.06.94-2.06 2.06-.94-2.06-.94-.94-2.06-.94 2.06-2.06.94z\"/><path d=\"M17.41 7.96l-1.37-1.37c-.4-.4-.92-.59-1.43-.59-.52 0-1.04.2-1.43.59L10.3 9.45l-7.72 7.72c-.78.78-.78 2.05 0 2.83L4 21.41c.39.39.9.59 1.41.59.51 0 1.02-.2 1.41-.59l7.78-7.78 2.81-2.81c.8-.78.8-2.07 0-2.86zM5.41 20L4 18.59l7.72-7.72 1.47 1.35L5.41 20z\"/>\n",
              "  </svg>\n",
              "      </button>\n",
              "      \n",
              "  <style>\n",
              "    .colab-df-container {\n",
              "      display:flex;\n",
              "      flex-wrap:wrap;\n",
              "      gap: 12px;\n",
              "    }\n",
              "\n",
              "    .colab-df-convert {\n",
              "      background-color: #E8F0FE;\n",
              "      border: none;\n",
              "      border-radius: 50%;\n",
              "      cursor: pointer;\n",
              "      display: none;\n",
              "      fill: #1967D2;\n",
              "      height: 32px;\n",
              "      padding: 0 0 0 0;\n",
              "      width: 32px;\n",
              "    }\n",
              "\n",
              "    .colab-df-convert:hover {\n",
              "      background-color: #E2EBFA;\n",
              "      box-shadow: 0px 1px 2px rgba(60, 64, 67, 0.3), 0px 1px 3px 1px rgba(60, 64, 67, 0.15);\n",
              "      fill: #174EA6;\n",
              "    }\n",
              "\n",
              "    [theme=dark] .colab-df-convert {\n",
              "      background-color: #3B4455;\n",
              "      fill: #D2E3FC;\n",
              "    }\n",
              "\n",
              "    [theme=dark] .colab-df-convert:hover {\n",
              "      background-color: #434B5C;\n",
              "      box-shadow: 0px 1px 3px 1px rgba(0, 0, 0, 0.15);\n",
              "      filter: drop-shadow(0px 1px 2px rgba(0, 0, 0, 0.3));\n",
              "      fill: #FFFFFF;\n",
              "    }\n",
              "  </style>\n",
              "\n",
              "      <script>\n",
              "        const buttonEl =\n",
              "          document.querySelector('#df-39eb916c-f6d3-4b24-93d7-7a0d0c37e204 button.colab-df-convert');\n",
              "        buttonEl.style.display =\n",
              "          google.colab.kernel.accessAllowed ? 'block' : 'none';\n",
              "\n",
              "        async function convertToInteractive(key) {\n",
              "          const element = document.querySelector('#df-39eb916c-f6d3-4b24-93d7-7a0d0c37e204');\n",
              "          const dataTable =\n",
              "            await google.colab.kernel.invokeFunction('convertToInteractive',\n",
              "                                                     [key], {});\n",
              "          if (!dataTable) return;\n",
              "\n",
              "          const docLinkHtml = 'Like what you see? Visit the ' +\n",
              "            '<a target=\"_blank\" href=https://colab.research.google.com/notebooks/data_table.ipynb>data table notebook</a>'\n",
              "            + ' to learn more about interactive tables.';\n",
              "          element.innerHTML = '';\n",
              "          dataTable['output_type'] = 'display_data';\n",
              "          await google.colab.output.renderOutput(dataTable, element);\n",
              "          const docLink = document.createElement('div');\n",
              "          docLink.innerHTML = docLinkHtml;\n",
              "          element.appendChild(docLink);\n",
              "        }\n",
              "      </script>\n",
              "    </div>\n",
              "  </div>\n",
              "  "
            ]
          },
          "metadata": {},
          "execution_count": 7
        }
      ]
    },
    {
      "cell_type": "code",
      "source": [
        "#Check for null values\n",
        "#In this case there are no missing values\n",
        "df.isnull().sum()"
      ],
      "metadata": {
        "colab": {
          "base_uri": "https://localhost:8080/"
        },
        "id": "WodP1W3s_1Dj",
        "outputId": "235385f8-9e20-443d-91e0-005c0a7c85d6"
      },
      "execution_count": null,
      "outputs": [
        {
          "output_type": "execute_result",
          "data": {
            "text/plain": [
              "url       0\n",
              "rating    0\n",
              "review    0\n",
              "dtype: int64"
            ]
          },
          "metadata": {},
          "execution_count": 8
        }
      ]
    },
    {
      "cell_type": "code",
      "source": [
        "#data preprocessing function\n",
        "def preprocessing(review):\n",
        "  review = review.lower()\n",
        "  review = review.replace('http\\S+|www.\\S+|https\\S+','') #removing urls\n",
        "  review = review.replace('<br />', '') #removing <br>\n",
        "  review = review.replace('...', '')\n",
        "  review = word_tokenize(review) #tokenization\n",
        "  review = \" \".join(review)\n",
        "\n",
        "  review = ' '.join([word for word in review.split() if word not in punctuation])\n",
        "  review = ' '.join([word for word in review.split() if word not in stop_words])\n",
        "  review = ' '.join([word for word in review.split() if not word.isdigit()])\n",
        "\n",
        "  review = ' '. join([word for word in review.split() if \"'\" not in word])\n",
        "  review = ' '. join([word for word in review.split() if \"`\" not in word])\n",
        "\n",
        "  return \"\".join(Word(word).lemmatize() for word in review)"
      ],
      "metadata": {
        "id": "_V_176nk_-6-"
      },
      "execution_count": null,
      "outputs": []
    },
    {
      "cell_type": "code",
      "source": [
        "#adding boolean sentiment column to the dataset\n",
        "df['sentiment'] = df['rating'] >=7"
      ],
      "metadata": {
        "id": "nNNcHaiaa_4C"
      },
      "execution_count": null,
      "outputs": []
    },
    {
      "cell_type": "code",
      "source": [
        "df['review'] = df['review'].apply(preprocessing)"
      ],
      "metadata": {
        "id": "1msJ5hhcbC00"
      },
      "execution_count": null,
      "outputs": []
    },
    {
      "cell_type": "code",
      "source": [
        "df = df.drop_duplicates('review')"
      ],
      "metadata": {
        "id": "Qm4ZMjrQeDh1"
      },
      "execution_count": null,
      "outputs": []
    },
    {
      "cell_type": "code",
      "source": [
        "#splitting dataset into training and validation data\n",
        "training_data = df.sample(frac=0.8)\n",
        "validation_data = df.drop(training_data.index)"
      ],
      "metadata": {
        "id": "d1joUCAto23A"
      },
      "execution_count": null,
      "outputs": []
    },
    {
      "cell_type": "code",
      "source": [
        "x_train = pd.DataFrame(training_data, columns=[training_data.columns[-2]])\n",
        "y_train = pd.DataFrame(training_data, columns=[training_data.columns[-1]])"
      ],
      "metadata": {
        "id": "2RNV7t5Po4o3"
      },
      "execution_count": null,
      "outputs": []
    },
    {
      "cell_type": "code",
      "source": [
        "x_val = pd.DataFrame(validation_data, columns=[validation_data.columns[-2]])\n",
        "y_val = pd.DataFrame(validation_data, columns=[validation_data.columns[-1]])"
      ],
      "metadata": {
        "id": "KC5UWThry_ac"
      },
      "execution_count": null,
      "outputs": []
    },
    {
      "cell_type": "markdown",
      "source": [
        "**Embeddings**"
      ],
      "metadata": {
        "id": "K89GSXBr9RL4"
      }
    },
    {
      "cell_type": "code",
      "source": [
        "def embeddings(x, y, model):\n",
        "  result = []\n",
        "\n",
        "  for j in range(len(x)):\n",
        "    sum=0\n",
        "    review = x.iloc[j].values[0]\n",
        "    for i,w in enumerate(review.split()):\n",
        "      try:\n",
        "        sum += model[w]\n",
        "      except KeyError:\n",
        "        sum += model[\"0\"]\n",
        "    label = torch.tensor(int(y.iloc[j].values[0] == True)).float()\n",
        "    result.append((sum/i, label))\n",
        "\n",
        "  return result"
      ],
      "metadata": {
        "id": "K3KlTcfjmGCb"
      },
      "execution_count": null,
      "outputs": []
    },
    {
      "cell_type": "code",
      "source": [
        "train = embeddings(x_train, y_train, model)\n",
        "train_loader = torch.utils.data.DataLoader(train, batch_size=128, shuffle=True)\n",
        "\n",
        "validation = embeddings(x_val, y_val, model)\n",
        "valid_loader = torch.utils.data.DataLoader(validation, batch_size=128, shuffle=True)"
      ],
      "metadata": {
        "id": "UAiXB7G06REn"
      },
      "execution_count": null,
      "outputs": []
    },
    {
      "cell_type": "markdown",
      "source": [
        "**Defining FFNN**"
      ],
      "metadata": {
        "id": "XzJYVSsK_pQM"
      }
    },
    {
      "cell_type": "code",
      "source": [
        "my_model = nn.Sequential(nn.Linear(300, 128),\n",
        "                        nn.Linear(128, 64),\n",
        "                        nn.Linear(64, 1),\n",
        "                        nn.Sigmoid())\n",
        "loss_func = nn.BCELoss()\n",
        "#Define Hyperparameters\n",
        "learning_rate = 1e-4\n",
        "optimizer = torch.optim.Adam(my_model.parameters(), lr=learning_rate)"
      ],
      "metadata": {
        "id": "GJDJXOTTrWx2"
      },
      "execution_count": null,
      "outputs": []
    },
    {
      "cell_type": "markdown",
      "source": [
        "**Training**"
      ],
      "metadata": {
        "id": "TI2pCmid_2Q1"
      }
    },
    {
      "cell_type": "code",
      "source": [
        "losses = []\n",
        "train_accuracy = []\n",
        "val_accuracy = []\n",
        "epochs = []\n",
        "for epoch in range(50):\n",
        "  batch_losses = []\n",
        "  epochs.append(epoch)\n",
        "  for x_batch, y_batch in train_loader:\n",
        "    y_pred = my_model(x_batch)\n",
        "    y_batch = y_batch.unsqueeze(1)\n",
        "\n",
        "    loss = loss_func(y_pred, y_batch)\n",
        "    #Delete previously stored gradients\n",
        "    optimizer.zero_grad()\n",
        "    #Perform backpropagation starting from the loss calculated in this epoch\n",
        "    loss.backward()\n",
        "    batch_losses.append(loss.item())\n",
        "    #Update model's weights based on the gradients calculated during backprop\n",
        "    optimizer.step()\n",
        "  losses.append(float(loss))\n",
        "\n",
        "  correct = 0\n",
        "  total = 0\n",
        "  for review, sentiment in train_loader:\n",
        "\n",
        "    output = my_model(review)\n",
        "    pred = (output > 0.5).float()\n",
        "    sentiment = sentiment.unsqueeze(1)\n",
        "    correct += pred.eq(sentiment).sum()\n",
        "    total += sentiment.shape[0]\n",
        "  train_acc = correct.item() / total\n",
        "  train_accuracy.append(train_acc)\n",
        "\n",
        "  correct = 0\n",
        "  total = 0\n",
        "  for review, sentiment in valid_loader:\n",
        "\n",
        "    output = my_model(review)\n",
        "    pred = (output > 0.5).float()\n",
        "    sentiment = sentiment.unsqueeze(1)\n",
        "    correct += pred.eq(sentiment).sum()\n",
        "    total += sentiment.shape[0]\n",
        "  val_acc = correct.item() / total\n",
        "  val_accuracy.append(val_acc)\n",
        "\n",
        "\n",
        "  print(f\"Epoch {epoch:3}: Loss = {sum(batch_losses)/len(train_loader):.5f}\")"
      ],
      "metadata": {
        "colab": {
          "base_uri": "https://localhost:8080/"
        },
        "id": "NrM202hm_DdX",
        "outputId": "dbd7afc5-ecf9-48ad-f0d0-0f9cf25585d1"
      },
      "execution_count": null,
      "outputs": [
        {
          "output_type": "stream",
          "name": "stdout",
          "text": [
            "Epoch   0: Loss = 0.60903\n",
            "Epoch   1: Loss = 0.44404\n",
            "Epoch   2: Loss = 0.39907\n",
            "Epoch   3: Loss = 0.38538\n",
            "Epoch   4: Loss = 0.37937\n",
            "Epoch   5: Loss = 0.37594\n",
            "Epoch   6: Loss = 0.37425\n",
            "Epoch   7: Loss = 0.37229\n",
            "Epoch   8: Loss = 0.37145\n",
            "Epoch   9: Loss = 0.37038\n",
            "Epoch  10: Loss = 0.36978\n",
            "Epoch  11: Loss = 0.36936\n",
            "Epoch  12: Loss = 0.36858\n",
            "Epoch  13: Loss = 0.36907\n",
            "Epoch  14: Loss = 0.36829\n",
            "Epoch  15: Loss = 0.36798\n",
            "Epoch  16: Loss = 0.36816\n",
            "Epoch  17: Loss = 0.36822\n",
            "Epoch  18: Loss = 0.36719\n",
            "Epoch  19: Loss = 0.36652\n",
            "Epoch  20: Loss = 0.36653\n",
            "Epoch  21: Loss = 0.36624\n",
            "Epoch  22: Loss = 0.36730\n",
            "Epoch  23: Loss = 0.36665\n",
            "Epoch  24: Loss = 0.36647\n",
            "Epoch  25: Loss = 0.36649\n",
            "Epoch  26: Loss = 0.36628\n",
            "Epoch  27: Loss = 0.36667\n",
            "Epoch  28: Loss = 0.36681\n",
            "Epoch  29: Loss = 0.36570\n",
            "Epoch  30: Loss = 0.36613\n",
            "Epoch  31: Loss = 0.36608\n",
            "Epoch  32: Loss = 0.36607\n",
            "Epoch  33: Loss = 0.36630\n",
            "Epoch  34: Loss = 0.36595\n",
            "Epoch  35: Loss = 0.36538\n",
            "Epoch  36: Loss = 0.36571\n",
            "Epoch  37: Loss = 0.36558\n",
            "Epoch  38: Loss = 0.36653\n",
            "Epoch  39: Loss = 0.36532\n",
            "Epoch  40: Loss = 0.36596\n",
            "Epoch  41: Loss = 0.36609\n",
            "Epoch  42: Loss = 0.36640\n",
            "Epoch  43: Loss = 0.36549\n",
            "Epoch  44: Loss = 0.36593\n",
            "Epoch  45: Loss = 0.36488\n",
            "Epoch  46: Loss = 0.36511\n",
            "Epoch  47: Loss = 0.36533\n",
            "Epoch  48: Loss = 0.36555\n",
            "Epoch  49: Loss = 0.36563\n",
            "Epoch  50: Loss = 0.36526\n",
            "Epoch  51: Loss = 0.36540\n",
            "Epoch  52: Loss = 0.36563\n",
            "Epoch  53: Loss = 0.36582\n",
            "Epoch  54: Loss = 0.36492\n",
            "Epoch  55: Loss = 0.36551\n",
            "Epoch  56: Loss = 0.36574\n",
            "Epoch  57: Loss = 0.36525\n",
            "Epoch  58: Loss = 0.36477\n",
            "Epoch  59: Loss = 0.36549\n",
            "Epoch  60: Loss = 0.36473\n",
            "Epoch  61: Loss = 0.36624\n",
            "Epoch  62: Loss = 0.36507\n",
            "Epoch  63: Loss = 0.36449\n",
            "Epoch  64: Loss = 0.36609\n",
            "Epoch  65: Loss = 0.36604\n",
            "Epoch  66: Loss = 0.36486\n",
            "Epoch  67: Loss = 0.36523\n",
            "Epoch  68: Loss = 0.36506\n",
            "Epoch  69: Loss = 0.36495\n",
            "Epoch  70: Loss = 0.36490\n",
            "Epoch  71: Loss = 0.36604\n",
            "Epoch  72: Loss = 0.36542\n",
            "Epoch  73: Loss = 0.36497\n",
            "Epoch  74: Loss = 0.36459\n",
            "Epoch  75: Loss = 0.36445\n",
            "Epoch  76: Loss = 0.36465\n",
            "Epoch  77: Loss = 0.36465\n",
            "Epoch  78: Loss = 0.36477\n",
            "Epoch  79: Loss = 0.36482\n",
            "Epoch  80: Loss = 0.36504\n",
            "Epoch  81: Loss = 0.36522\n",
            "Epoch  82: Loss = 0.36486\n",
            "Epoch  83: Loss = 0.36518\n",
            "Epoch  84: Loss = 0.36408\n",
            "Epoch  85: Loss = 0.36468\n",
            "Epoch  86: Loss = 0.36443\n",
            "Epoch  87: Loss = 0.36460\n",
            "Epoch  88: Loss = 0.36508\n",
            "Epoch  89: Loss = 0.36566\n",
            "Epoch  90: Loss = 0.36383\n",
            "Epoch  91: Loss = 0.36557\n",
            "Epoch  92: Loss = 0.36483\n",
            "Epoch  93: Loss = 0.36458\n",
            "Epoch  94: Loss = 0.36397\n",
            "Epoch  95: Loss = 0.36398\n",
            "Epoch  96: Loss = 0.36482\n",
            "Epoch  97: Loss = 0.36524\n",
            "Epoch  98: Loss = 0.36446\n",
            "Epoch  99: Loss = 0.36409\n"
          ]
        }
      ]
    },
    {
      "cell_type": "markdown",
      "source": [
        "**Accuracy**"
      ],
      "metadata": {
        "id": "RP0uRm0A_jsG"
      }
    },
    {
      "cell_type": "code",
      "source": [
        "correct = 0\n",
        "total = 0\n",
        "for review, sentiment in train_loader:\n",
        "\n",
        "  output = my_model(review)\n",
        "  pred = (output > 0.5).float()\n",
        "  sentiment = sentiment.unsqueeze(1)\n",
        "  correct += pred.eq(sentiment).sum()\n",
        "  total += sentiment.shape[0]\n",
        "accuracy = correct.item() / total\n",
        "print(accuracy)"
      ],
      "metadata": {
        "colab": {
          "base_uri": "https://localhost:8080/"
        },
        "id": "6MNNhUIkjSeA",
        "outputId": "0674a3da-ac5e-4220-e149-9134ee86c4e1"
      },
      "execution_count": null,
      "outputs": [
        {
          "output_type": "stream",
          "name": "stdout",
          "text": [
            "0.8392477331243703\n"
          ]
        }
      ]
    },
    {
      "cell_type": "markdown",
      "source": [
        "**Learning Curves**"
      ],
      "metadata": {
        "id": "zq2hGRJi_fN1"
      }
    },
    {
      "cell_type": "code",
      "source": [
        "# plotting\n",
        "plt.title(\"Training Curve\")\n",
        "plt.plot(losses, label=\"Train\")\n",
        "plt.xlabel(\"Epoch\")\n",
        "plt.ylabel(\"Loss\")\n",
        "plt.show()"
      ],
      "metadata": {
        "colab": {
          "base_uri": "https://localhost:8080/",
          "height": 295
        },
        "id": "zgwCpxOkeEuR",
        "outputId": "78aa8bf4-beb2-4702-a63f-fd72ede16b33"
      },
      "execution_count": null,
      "outputs": [
        {
          "output_type": "display_data",
          "data": {
            "text/plain": [
              "<Figure size 432x288 with 1 Axes>"
            ],
            "image/png": "[encoded data removed]"
          },
          "metadata": {
            "needs_background": "light"
          }
        }
      ]
    },
    {
      "cell_type": "code",
      "source": [
        "plt.title(\"Learning Curve\")\n",
        "plt.plot(epochs, train_accuracy, label=\"Train\")\n",
        "plt.plot(epochs, val_accuracy, label=\"Validation\")\n",
        "plt.xlabel(\"Epoch\")\n",
        "plt.ylabel(\"Accuracy\")\n",
        "plt.legend(loc='best')\n",
        "plt.show()"
      ],
      "metadata": {
        "colab": {
          "base_uri": "https://localhost:8080/",
          "height": 295
        },
        "id": "SyLihlCKzx_h",
        "outputId": "b0843b4d-2bbd-45c8-a7a4-4398af7fbfdd"
      },
      "execution_count": null,
      "outputs": [
        {
          "output_type": "display_data",
          "data": {
            "text/plain": [
              "<Figure size 432x288 with 1 Axes>"
            ],
            "image/png": "[encoded data removed]"
          },
          "metadata": {
            "needs_background": "light"
          }
        }
      ]
    },
    {
      "cell_type": "markdown",
      "source": [
        "**F1 Score**"
      ],
      "metadata": {
        "id": "QOh9dLGx-uUB"
      }
    },
    {
      "cell_type": "code",
      "source": [
        "predictions = []\n",
        "sentiments = []\n",
        "for review, sentiment in train_loader:\n",
        "  output = my_model(review)\n",
        "  pred = (output > 0.5).float()\n",
        "  predictions.append(pred)\n",
        "  sentiment = sentiment.unsqueeze(1)\n",
        "  sentiments.append(sentiment)\n",
        "\n",
        "predictions = torch.cat(predictions)\n",
        "sentiments = torch.cat(sentiments)\n",
        "f1_train = BinaryF1Score()\n",
        "f1 = f1_train(predictions, sentiments)"
      ],
      "metadata": {
        "id": "HZPIu_pn-d_T"
      },
      "execution_count": null,
      "outputs": []
    },
    {
      "cell_type": "code",
      "source": [
        "predictions = []\n",
        "sentiments = []\n",
        "for review, sentiment in valid_loader:\n",
        "  output = my_model(review)\n",
        "  pred = (output > 0.5).float()\n",
        "  predictions.append(pred)\n",
        "  sentiment = sentiment.unsqueeze(1)\n",
        "  sentiments.append(sentiment)\n",
        "\n",
        "predictions = torch.cat(predictions)\n",
        "sentiments = torch.cat(sentiments)\n",
        "f1_valid = BinaryF1Score()\n",
        "f1 = f1_valid(predictions, sentiments)\n",
        "print(f1.item())"
      ],
      "metadata": {
        "colab": {
          "base_uri": "https://localhost:8080/"
        },
        "id": "-cfkrbp0vhwb",
        "outputId": "e3f3dff3-7147-4b84-a4df-94eda0f4ce00"
      },
      "execution_count": null,
      "outputs": [
        {
          "output_type": "stream",
          "name": "stdout",
          "text": [
            "0.841129720211029\n"
          ]
        }
      ]
    },
    {
      "cell_type": "markdown",
      "source": [
        "**Recall**"
      ],
      "metadata": {
        "id": "vP9JGlRX-5Av"
      }
    },
    {
      "cell_type": "code",
      "source": [
        "predictions = []\n",
        "sentiments = []\n",
        "for review, sentiment in train_loader:\n",
        "  output = my_model(review)\n",
        "  pred = (output > 0.5).float()\n",
        "  predictions.append(pred)\n",
        "  sentiment = sentiment.unsqueeze(1)\n",
        "  sentiments.append(sentiment)\n",
        "\n",
        "predictions = torch.cat(predictions)\n",
        "sentiments = torch.cat(sentiments)\n",
        "recall_train = BinaryRecall()\n",
        "recall = recall_train(predictions, sentiments)\n",
        "print(recall.item())"
      ],
      "metadata": {
        "colab": {
          "base_uri": "https://localhost:8080/"
        },
        "id": "f6oraTRky6RA",
        "outputId": "d3331c92-278e-42cb-a2bd-ff780553f1cd"
      },
      "execution_count": null,
      "outputs": [
        {
          "output_type": "stream",
          "name": "stdout",
          "text": [
            "0.8542269468307495\n"
          ]
        }
      ]
    },
    {
      "cell_type": "code",
      "source": [
        "predictions = []\n",
        "sentiments = []\n",
        "for review, sentiment in valid_loader:\n",
        "  output = my_model(review)\n",
        "  pred = (output > 0.5).float()\n",
        "  predictions.append(pred)\n",
        "  sentiment = sentiment.unsqueeze(1)\n",
        "  sentiments.append(sentiment)\n",
        "\n",
        "predictions = torch.cat(predictions)\n",
        "sentiments = torch.cat(sentiments)\n",
        "recall_valid = BinaryRecall()\n",
        "recall = recall_valid(predictions, sentiments)\n",
        "print(recall.item())"
      ],
      "metadata": {
        "colab": {
          "base_uri": "https://localhost:8080/"
        },
        "id": "UDt3RG4nxkt8",
        "outputId": "ea17b96b-2846-4862-d629-14a9a826db7d"
      },
      "execution_count": null,
      "outputs": [
        {
          "output_type": "stream",
          "name": "stdout",
          "text": [
            "0.8577857613563538\n"
          ]
        }
      ]
    },
    {
      "cell_type": "markdown",
      "source": [
        "**Precision**"
      ],
      "metadata": {
        "id": "lMzZKueh-7wj"
      }
    },
    {
      "cell_type": "code",
      "source": [
        "predictions = []\n",
        "sentiments = []\n",
        "for review, sentiment in train_loader:\n",
        "  output = my_model(review)\n",
        "  pred = (output > 0.5).float()\n",
        "  predictions.append(pred)\n",
        "  sentiment = sentiment.unsqueeze(1)\n",
        "  sentiments.append(sentiment)\n",
        "\n",
        "predictions = torch.cat(predictions)\n",
        "sentiments = torch.cat(sentiments)\n",
        "precision_train = BinaryPrecision()\n",
        "precision = precision_train(predictions, sentiments)\n",
        "print(precision.item())"
      ],
      "metadata": {
        "colab": {
          "base_uri": "https://localhost:8080/"
        },
        "id": "kUlAGuBqx6QZ",
        "outputId": "21d79778-7f80-4641-cf2c-0e170bb5e3fc"
      },
      "execution_count": null,
      "outputs": [
        {
          "output_type": "stream",
          "name": "stdout",
          "text": [
            "0.8339577317237854\n"
          ]
        }
      ]
    },
    {
      "cell_type": "code",
      "source": [
        "predictions = []\n",
        "sentiments = []\n",
        "for review, sentiment in valid_loader:\n",
        "  output = my_model(review)\n",
        "  pred = (output > 0.5).float()\n",
        "  predictions.append(pred)\n",
        "  sentiment = sentiment.unsqueeze(1)\n",
        "  sentiments.append(sentiment)\n",
        "\n",
        "predictions = torch.cat(predictions)\n",
        "sentiments = torch.cat(sentiments)\n",
        "precision_valid = BinaryPrecision()\n",
        "precision = precision_valid(predictions, sentiments)\n",
        "print(precision.item())"
      ],
      "metadata": {
        "colab": {
          "base_uri": "https://localhost:8080/"
        },
        "id": "Bwu2asn_yKtC",
        "outputId": "846b20fa-a06a-4f77-e90c-81fe157a3f30"
      },
      "execution_count": null,
      "outputs": [
        {
          "output_type": "stream",
          "name": "stdout",
          "text": [
            "0.8251082301139832\n"
          ]
        }
      ]
    },
    {
      "cell_type": "markdown",
      "source": [
        "**ROC Curves**"
      ],
      "metadata": {
        "id": "_kp0oRE-_BDt"
      }
    },
    {
      "cell_type": "code",
      "source": [
        "predictions = []\n",
        "sentiments = []\n",
        "for review, sentiment in train_loader:\n",
        "  output = my_model(review)\n",
        "  pred = (output > 0.5).float()\n",
        "  predictions.append(pred)\n",
        "  sentiment = sentiment.unsqueeze(1)\n",
        "  sentiments.append(sentiment)\n",
        "\n",
        "predictions = torch.cat(predictions)\n",
        "sentiments = torch.cat(sentiments)\n",
        "roc = BinaryROC()\n",
        "fpr, tpr, thresholds = roc(predictions, sentiments)\n",
        "roc_auc = AUROC(task=\"binary\")\n",
        "auc = roc_auc(predictions, sentiments)\n",
        "plt.plot(fpr,tpr,label='AUC=%0.2f'%auc)\n",
        "plt.legend(loc=\"lower right\")\n",
        "plt.xlabel(\"False Positive Rate\")\n",
        "plt.ylabel(\"True Positive Rate\")\n",
        "plt.title(\"ROC Curve\")\n",
        "plt.show()"
      ],
      "metadata": {
        "colab": {
          "base_uri": "https://localhost:8080/",
          "height": 295
        },
        "id": "HiIqiNP-3lTd",
        "outputId": "17ea3e1b-0b16-403a-8493-a9ee4977eea7"
      },
      "execution_count": null,
      "outputs": [
        {
          "output_type": "display_data",
          "data": {
            "text/plain": [
              "<Figure size 432x288 with 1 Axes>"
            ],
            "image/png": "[encoded data removed]"
          },
          "metadata": {
            "needs_background": "light"
          }
        }
      ]
    },
    {
      "cell_type": "markdown",
      "source": [
        "**You can use the next part for testing**"
      ],
      "metadata": {
        "id": "iNAI8uf3Tzgx"
      }
    },
    {
      "cell_type": "code",
      "source": [
        "test_data = \"place the test data set here\"\n",
        "x_test = pd.DataFrame(test_data, columns=[validation_data.columns[-2]])\n",
        "y_test = pd.DataFrame(test_data, columns=[validation_data.columns[-1]])\n",
        "\n",
        "test = embeddings(x_test, y_test, model)\n",
        "test_loader = torch.utils.data.DataLoader(test, batch_size=128, shuffle=True)\n",
        "\n",
        "correct = 0\n",
        "total = 0\n",
        "for review, sentiment in test_loader:\n",
        "\n",
        "  output = my_model(review)\n",
        "  pred = (output > 0.5).float()\n",
        "  sentiment = sentiment.unsqueeze(1)\n",
        "  correct += pred.eq(sentiment).sum()\n",
        "  total += sentiment.shape[0]\n",
        "accuracy = correct.item() / total\n",
        "print(accuracy)"
      ],
      "metadata": {
        "id": "6akIDYO9Kd-k"
      },
      "execution_count": null,
      "outputs": []
    }
  ]
}